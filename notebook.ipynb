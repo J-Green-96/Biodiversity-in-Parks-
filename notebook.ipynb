{
 "cells": [
  {
   "cell_type": "markdown",
   "metadata": {},
   "source": [
    "# Project Scope\n",
    "\n",
    "## Goals\n",
    "- What is the distribution of conservation status for animals?\n",
    "<br>\n",
    "- Are certain types of species more likely to be endangered?\n",
    "<br>\n",
    "- Are the differences between species and their conservation status significant?\n",
    "<br>\n",
    "- Which species were spotted the most at each park?\n",
    "\n",
    "## Data\n",
    "We will use the observations.csv and species_info.csv files supplied from Codecademy.\n",
    "\n",
    "## Analysis\n",
    "We will use pandas, matplotlib, and seaborne to explore, analyse, and visualise the data.\n",
    "Once completed we will be able draw our conclusions based on our goals for the project."
   ]
  },
  {
   "cell_type": "markdown",
   "metadata": {},
   "source": [
    "# Import Appropriate Modules"
   ]
  },
  {
   "cell_type": "code",
   "execution_count": 205,
   "metadata": {},
   "outputs": [],
   "source": [
    "import pandas as pd\n",
    "import seaborn as sns\n",
    "from matplotlib import pyplot as plt"
   ]
  },
  {
   "cell_type": "markdown",
   "metadata": {},
   "source": [
    "# Import the Data"
   ]
  },
  {
   "cell_type": "code",
   "execution_count": 206,
   "metadata": {},
   "outputs": [],
   "source": [
    "obs_df = pd.read_csv('/Users/jordangreen/Desktop/biodiversity_starter/observations.csv')\n",
    "spec_df = pd.read_csv('/Users/jordangreen/Desktop/biodiversity_starter/species_info.csv')"
   ]
  },
  {
   "cell_type": "markdown",
   "metadata": {},
   "source": [
    "obs_df = observation data of each species\n",
    "<br>\n",
    "spec_df = info for each of the observed species\n"
   ]
  },
  {
   "cell_type": "markdown",
   "metadata": {},
   "source": [
    "# Inspect and Clean the Data"
   ]
  },
  {
   "cell_type": "code",
   "execution_count": 207,
   "metadata": {},
   "outputs": [
    {
     "data": {
      "text/html": [
       "<div>\n",
       "<style scoped>\n",
       "    .dataframe tbody tr th:only-of-type {\n",
       "        vertical-align: middle;\n",
       "    }\n",
       "\n",
       "    .dataframe tbody tr th {\n",
       "        vertical-align: top;\n",
       "    }\n",
       "\n",
       "    .dataframe thead th {\n",
       "        text-align: right;\n",
       "    }\n",
       "</style>\n",
       "<table border=\"1\" class=\"dataframe\">\n",
       "  <thead>\n",
       "    <tr style=\"text-align: right;\">\n",
       "      <th></th>\n",
       "      <th>category</th>\n",
       "      <th>scientific_name</th>\n",
       "      <th>common_names</th>\n",
       "      <th>conservation_status</th>\n",
       "    </tr>\n",
       "  </thead>\n",
       "  <tbody>\n",
       "    <tr>\n",
       "      <th>0</th>\n",
       "      <td>Mammal</td>\n",
       "      <td>Clethrionomys gapperi gapperi</td>\n",
       "      <td>Gapper's Red-Backed Vole</td>\n",
       "      <td>NaN</td>\n",
       "    </tr>\n",
       "    <tr>\n",
       "      <th>1</th>\n",
       "      <td>Mammal</td>\n",
       "      <td>Bos bison</td>\n",
       "      <td>American Bison, Bison</td>\n",
       "      <td>NaN</td>\n",
       "    </tr>\n",
       "    <tr>\n",
       "      <th>2</th>\n",
       "      <td>Mammal</td>\n",
       "      <td>Bos taurus</td>\n",
       "      <td>Aurochs, Aurochs, Domestic Cattle (Feral), Dom...</td>\n",
       "      <td>NaN</td>\n",
       "    </tr>\n",
       "    <tr>\n",
       "      <th>3</th>\n",
       "      <td>Mammal</td>\n",
       "      <td>Ovis aries</td>\n",
       "      <td>Domestic Sheep, Mouflon, Red Sheep, Sheep (Feral)</td>\n",
       "      <td>NaN</td>\n",
       "    </tr>\n",
       "    <tr>\n",
       "      <th>4</th>\n",
       "      <td>Mammal</td>\n",
       "      <td>Cervus elaphus</td>\n",
       "      <td>Wapiti Or Elk</td>\n",
       "      <td>NaN</td>\n",
       "    </tr>\n",
       "  </tbody>\n",
       "</table>\n",
       "</div>"
      ],
      "text/plain": [
       "  category                scientific_name  \\\n",
       "0   Mammal  Clethrionomys gapperi gapperi   \n",
       "1   Mammal                      Bos bison   \n",
       "2   Mammal                     Bos taurus   \n",
       "3   Mammal                     Ovis aries   \n",
       "4   Mammal                 Cervus elaphus   \n",
       "\n",
       "                                        common_names conservation_status  \n",
       "0                           Gapper's Red-Backed Vole                 NaN  \n",
       "1                              American Bison, Bison                 NaN  \n",
       "2  Aurochs, Aurochs, Domestic Cattle (Feral), Dom...                 NaN  \n",
       "3  Domestic Sheep, Mouflon, Red Sheep, Sheep (Feral)                 NaN  \n",
       "4                                      Wapiti Or Elk                 NaN  "
      ]
     },
     "metadata": {},
     "output_type": "display_data"
    }
   ],
   "source": [
    "display(spec_df.head())"
   ]
  },
  {
   "cell_type": "code",
   "execution_count": 208,
   "metadata": {
    "scrolled": true
   },
   "outputs": [
    {
     "name": "stdout",
     "output_type": "stream",
     "text": [
      "Index(['category', 'scientific_name', 'common_names', 'conservation_status'], dtype='object')\n"
     ]
    }
   ],
   "source": [
    "print(spec_df.columns)"
   ]
  },
  {
   "cell_type": "code",
   "execution_count": 209,
   "metadata": {},
   "outputs": [
    {
     "name": "stdout",
     "output_type": "stream",
     "text": [
      "['Mammal' 'Bird' 'Reptile' 'Amphibian' 'Fish' 'Vascular Plant'\n",
      " 'Nonvascular Plant']\n"
     ]
    }
   ],
   "source": [
    "print(spec_df.category.unique())"
   ]
  },
  {
   "cell_type": "markdown",
   "metadata": {},
   "source": [
    "'category': How the species is classified in the dataset.  Possible values above.\n",
    "<br>\n",
    "'scientific_name': The unique name given to a species in taxonomy\n",
    "<br>\n",
    "'common_names': common aliases for the species\n",
    "<br>\n",
    "'conservation_status':  Measures if a species needs conservation and to what degree"
   ]
  },
  {
   "cell_type": "markdown",
   "metadata": {},
   "source": [
    "The species dataset gives information about each species that appears in the observations dataset.  Immediately the 'conservation_status' column jumps out.  There are NaN values which could either be missing data or it could mean that the species is not endangered at all.  Before making any changes to the data, I want to check if there are any more null values."
   ]
  },
  {
   "cell_type": "code",
   "execution_count": 210,
   "metadata": {},
   "outputs": [
    {
     "name": "stdout",
     "output_type": "stream",
     "text": [
      "<class 'pandas.core.frame.DataFrame'>\n",
      "RangeIndex: 5824 entries, 0 to 5823\n",
      "Data columns (total 4 columns):\n",
      " #   Column               Non-Null Count  Dtype \n",
      "---  ------               --------------  ----- \n",
      " 0   category             5824 non-null   object\n",
      " 1   scientific_name      5824 non-null   object\n",
      " 2   common_names         5824 non-null   object\n",
      " 3   conservation_status  191 non-null    object\n",
      "dtypes: object(4)\n",
      "memory usage: 182.1+ KB\n",
      "None\n"
     ]
    }
   ],
   "source": [
    "print(spec_df.info())"
   ]
  },
  {
   "cell_type": "markdown",
   "metadata": {},
   "source": [
    "By using the .info function, it is clear that only the 'conservation_status' column contains NaN values (and quite a lot of them).  Given the context of the dataset, we can assume that all NaN values represent species that are not endangered.  To make the data reflect this, we can change every null value in the 'conservation_status' column to the string 'Not Endangered'.  After doing this we can convert the column into ordered categorical data."
   ]
  },
  {
   "cell_type": "code",
   "execution_count": 211,
   "metadata": {},
   "outputs": [],
   "source": [
    "spec_df['conservation_status'] = spec_df['conservation_status'].fillna('Not Endangered')\n",
    "spec_df.conservation_status = pd.Categorical(spec_df.conservation_status, \n",
    "                                               categories=['Not Endangered', 'Species of Concern', \n",
    "                                               'In Recovery', 'Threatened', 'Endangered'], \n",
    "                                               ordered=True)"
   ]
  },
  {
   "cell_type": "code",
   "execution_count": 212,
   "metadata": {},
   "outputs": [
    {
     "name": "stdout",
     "output_type": "stream",
     "text": [
      "category                  7\n",
      "scientific_name        5541\n",
      "common_names           5504\n",
      "conservation_status       5\n",
      "dtype: int64\n"
     ]
    }
   ],
   "source": [
    "print(spec_df.nunique())"
   ]
  },
  {
   "cell_type": "markdown",
   "metadata": {},
   "source": [
    "Before we move on, I want to look if there are any duplicates in the 'scientific_name' column.  There is a discrepancy between the number of unique scientific names and the number of names that are in the dataset.  This indicates that there are duplicate rows.\n"
   ]
  },
  {
   "cell_type": "code",
   "execution_count": 213,
   "metadata": {},
   "outputs": [
    {
     "name": "stdout",
     "output_type": "stream",
     "text": [
      "Duplicates: 557\n"
     ]
    }
   ],
   "source": [
    "dupes = spec_df[spec_df.scientific_name.duplicated(keep=False)]\n",
    "print('Duplicates: ' + str(len(dupes)))"
   ]
  },
  {
   "cell_type": "markdown",
   "metadata": {},
   "source": [
    "There are 557 duplicate rows in the data set.  Now that we know there are duplicates that have the same scientific name.  This is not possible and represents an error in the dataset.  Some of the duplicate scientific names might have differing conservation_status' than their duplicates.  If this is the case, it would be best to keep the one with the most serious conservation_status.  Using the .drop_duplicates function we can remove all rows where there are duplicate names except the first instance of that name.  "
   ]
  },
  {
   "cell_type": "code",
   "execution_count": 214,
   "metadata": {},
   "outputs": [],
   "source": [
    "spec_df.drop_duplicates(inplace=True, subset='scientific_name', keep='first')\n",
    "spec_df.reset_index(drop=True, inplace=True)\n",
    "worst_case = dupes.groupby('scientific_name').conservation_status.max()"
   ]
  },
  {
   "cell_type": "markdown",
   "metadata": {},
   "source": [
    "Now that we have the worst cases for all of the duplicates we will replace the conservation status in the dataframe with the one in the worst case for each species."
   ]
  },
  {
   "cell_type": "code",
   "execution_count": 215,
   "metadata": {},
   "outputs": [],
   "source": [
    "for species, worst in worst_case.iteritems():\n",
    "    spec_df.conservation_status[spec_df.scientific_name == species] = worst"
   ]
  },
  {
   "cell_type": "markdown",
   "metadata": {},
   "source": [
    "In the code above, we iterated through every species: worst case pair in the worst_case and updated the dataframe with the matching name and changed its conservation status to the one we found in the worst_case grouping we generated earlier.  "
   ]
  },
  {
   "cell_type": "code",
   "execution_count": 216,
   "metadata": {},
   "outputs": [
    {
     "name": "stdout",
     "output_type": "stream",
     "text": [
      "Duplicates: 0\n"
     ]
    }
   ],
   "source": [
    "dupes = spec_df[spec_df.scientific_name.duplicated(keep=False)]\n",
    "print('Duplicates: ' + str(len(dupes)))"
   ]
  },
  {
   "cell_type": "markdown",
   "metadata": {},
   "source": [
    "The duplicates are now removed and the dataset looks clean.  Since the observation set also contains a column for scientific names, and this is now unique to every row in the species set, we can join the two tables together."
   ]
  },
  {
   "cell_type": "code",
   "execution_count": 227,
   "metadata": {},
   "outputs": [
    {
     "data": {
      "text/html": [
       "<div>\n",
       "<style scoped>\n",
       "    .dataframe tbody tr th:only-of-type {\n",
       "        vertical-align: middle;\n",
       "    }\n",
       "\n",
       "    .dataframe tbody tr th {\n",
       "        vertical-align: top;\n",
       "    }\n",
       "\n",
       "    .dataframe thead th {\n",
       "        text-align: right;\n",
       "    }\n",
       "</style>\n",
       "<table border=\"1\" class=\"dataframe\">\n",
       "  <thead>\n",
       "    <tr style=\"text-align: right;\">\n",
       "      <th></th>\n",
       "      <th>category</th>\n",
       "      <th>scientific_name</th>\n",
       "      <th>common_names</th>\n",
       "      <th>conservation_status</th>\n",
       "      <th>park_name</th>\n",
       "      <th>observations</th>\n",
       "    </tr>\n",
       "  </thead>\n",
       "  <tbody>\n",
       "    <tr>\n",
       "      <th>0</th>\n",
       "      <td>Mammal</td>\n",
       "      <td>Clethrionomys gapperi gapperi</td>\n",
       "      <td>Gapper's Red-Backed Vole</td>\n",
       "      <td>Not Endangered</td>\n",
       "      <td>Bryce National Park</td>\n",
       "      <td>130</td>\n",
       "    </tr>\n",
       "    <tr>\n",
       "      <th>1</th>\n",
       "      <td>Mammal</td>\n",
       "      <td>Clethrionomys gapperi gapperi</td>\n",
       "      <td>Gapper's Red-Backed Vole</td>\n",
       "      <td>Not Endangered</td>\n",
       "      <td>Yellowstone National Park</td>\n",
       "      <td>270</td>\n",
       "    </tr>\n",
       "    <tr>\n",
       "      <th>2</th>\n",
       "      <td>Mammal</td>\n",
       "      <td>Clethrionomys gapperi gapperi</td>\n",
       "      <td>Gapper's Red-Backed Vole</td>\n",
       "      <td>Not Endangered</td>\n",
       "      <td>Great Smoky Mountains National Park</td>\n",
       "      <td>98</td>\n",
       "    </tr>\n",
       "    <tr>\n",
       "      <th>3</th>\n",
       "      <td>Mammal</td>\n",
       "      <td>Clethrionomys gapperi gapperi</td>\n",
       "      <td>Gapper's Red-Backed Vole</td>\n",
       "      <td>Not Endangered</td>\n",
       "      <td>Yosemite National Park</td>\n",
       "      <td>117</td>\n",
       "    </tr>\n",
       "    <tr>\n",
       "      <th>4</th>\n",
       "      <td>Mammal</td>\n",
       "      <td>Bos bison</td>\n",
       "      <td>American Bison, Bison</td>\n",
       "      <td>Not Endangered</td>\n",
       "      <td>Yosemite National Park</td>\n",
       "      <td>128</td>\n",
       "    </tr>\n",
       "    <tr>\n",
       "      <th>...</th>\n",
       "      <td>...</td>\n",
       "      <td>...</td>\n",
       "      <td>...</td>\n",
       "      <td>...</td>\n",
       "      <td>...</td>\n",
       "      <td>...</td>\n",
       "    </tr>\n",
       "    <tr>\n",
       "      <th>23291</th>\n",
       "      <td>Vascular Plant</td>\n",
       "      <td>Vitis californica</td>\n",
       "      <td>California Grape, California Wild Grape</td>\n",
       "      <td>Not Endangered</td>\n",
       "      <td>Yellowstone National Park</td>\n",
       "      <td>237</td>\n",
       "    </tr>\n",
       "    <tr>\n",
       "      <th>23292</th>\n",
       "      <td>Vascular Plant</td>\n",
       "      <td>Tribulus terrestris</td>\n",
       "      <td>Bullhead, Caltrop, Goathead, Mexican Sandbur, ...</td>\n",
       "      <td>Not Endangered</td>\n",
       "      <td>Great Smoky Mountains National Park</td>\n",
       "      <td>50</td>\n",
       "    </tr>\n",
       "    <tr>\n",
       "      <th>23293</th>\n",
       "      <td>Vascular Plant</td>\n",
       "      <td>Tribulus terrestris</td>\n",
       "      <td>Bullhead, Caltrop, Goathead, Mexican Sandbur, ...</td>\n",
       "      <td>Not Endangered</td>\n",
       "      <td>Yellowstone National Park</td>\n",
       "      <td>239</td>\n",
       "    </tr>\n",
       "    <tr>\n",
       "      <th>23294</th>\n",
       "      <td>Vascular Plant</td>\n",
       "      <td>Tribulus terrestris</td>\n",
       "      <td>Bullhead, Caltrop, Goathead, Mexican Sandbur, ...</td>\n",
       "      <td>Not Endangered</td>\n",
       "      <td>Bryce National Park</td>\n",
       "      <td>111</td>\n",
       "    </tr>\n",
       "    <tr>\n",
       "      <th>23295</th>\n",
       "      <td>Vascular Plant</td>\n",
       "      <td>Tribulus terrestris</td>\n",
       "      <td>Bullhead, Caltrop, Goathead, Mexican Sandbur, ...</td>\n",
       "      <td>Not Endangered</td>\n",
       "      <td>Yosemite National Park</td>\n",
       "      <td>156</td>\n",
       "    </tr>\n",
       "  </tbody>\n",
       "</table>\n",
       "<p>23296 rows × 6 columns</p>\n",
       "</div>"
      ],
      "text/plain": [
       "             category                scientific_name  \\\n",
       "0              Mammal  Clethrionomys gapperi gapperi   \n",
       "1              Mammal  Clethrionomys gapperi gapperi   \n",
       "2              Mammal  Clethrionomys gapperi gapperi   \n",
       "3              Mammal  Clethrionomys gapperi gapperi   \n",
       "4              Mammal                      Bos bison   \n",
       "...               ...                            ...   \n",
       "23291  Vascular Plant              Vitis californica   \n",
       "23292  Vascular Plant            Tribulus terrestris   \n",
       "23293  Vascular Plant            Tribulus terrestris   \n",
       "23294  Vascular Plant            Tribulus terrestris   \n",
       "23295  Vascular Plant            Tribulus terrestris   \n",
       "\n",
       "                                            common_names conservation_status  \\\n",
       "0                               Gapper's Red-Backed Vole      Not Endangered   \n",
       "1                               Gapper's Red-Backed Vole      Not Endangered   \n",
       "2                               Gapper's Red-Backed Vole      Not Endangered   \n",
       "3                               Gapper's Red-Backed Vole      Not Endangered   \n",
       "4                                  American Bison, Bison      Not Endangered   \n",
       "...                                                  ...                 ...   \n",
       "23291            California Grape, California Wild Grape      Not Endangered   \n",
       "23292  Bullhead, Caltrop, Goathead, Mexican Sandbur, ...      Not Endangered   \n",
       "23293  Bullhead, Caltrop, Goathead, Mexican Sandbur, ...      Not Endangered   \n",
       "23294  Bullhead, Caltrop, Goathead, Mexican Sandbur, ...      Not Endangered   \n",
       "23295  Bullhead, Caltrop, Goathead, Mexican Sandbur, ...      Not Endangered   \n",
       "\n",
       "                                 park_name  observations  \n",
       "0                      Bryce National Park           130  \n",
       "1                Yellowstone National Park           270  \n",
       "2      Great Smoky Mountains National Park            98  \n",
       "3                   Yosemite National Park           117  \n",
       "4                   Yosemite National Park           128  \n",
       "...                                    ...           ...  \n",
       "23291            Yellowstone National Park           237  \n",
       "23292  Great Smoky Mountains National Park            50  \n",
       "23293            Yellowstone National Park           239  \n",
       "23294                  Bryce National Park           111  \n",
       "23295               Yosemite National Park           156  \n",
       "\n",
       "[23296 rows x 6 columns]"
      ]
     },
     "metadata": {},
     "output_type": "display_data"
    }
   ],
   "source": [
    "merged_df = spec_df.merge(obs_df, on='scientific_name', how='outer')\n",
    "display(merged_df)"
   ]
  },
  {
   "cell_type": "markdown",
   "metadata": {},
   "source": [
    "It appears that there are duplicated scientific names in this new frame as well.  However, we know that there are 4 different parks so it would make sense that there can be up to 4 entries for each species.  To confirm that there arent any actual duplicate observations, we can find all the scientific names that occur more than 4 times.  "
   ]
  },
  {
   "cell_type": "code",
   "execution_count": 245,
   "metadata": {
    "scrolled": false
   },
   "outputs": [
    {
     "name": "stdout",
     "output_type": "stream",
     "text": [
      "Columba livia             12\n",
      "Castor canadensis         12\n",
      "Holcus lanatus            12\n",
      "Procyon lotor             12\n",
      "Canis lupus               12\n",
      "                          ..\n",
      "Glyceria borealis          4\n",
      "Cardamine dissecta         4\n",
      "Sematophyllum demissum     4\n",
      "Penstemon canescens        4\n",
      "Tephrosia virginiana       4\n",
      "Name: scientific_name, Length: 5541, dtype: int64\n",
      "[12  8  4]\n"
     ]
    }
   ],
   "source": [
    "print(merged_df.scientific_name.value_counts())\n",
    "print(merged_df.scientific_name.value_counts().unique())"
   ]
  },
  {
   "cell_type": "markdown",
   "metadata": {},
   "source": [
    "We can see that there are 5541 unique names which is a great sign because this is the same number of rows in spec_df.  However, there are up to 12 rows in obs_df with the same scientific names so we should look at an example of a set of these rows."
   ]
  },
  {
   "cell_type": "code",
   "execution_count": 358,
   "metadata": {},
   "outputs": [
    {
     "name": "stdout",
     "output_type": "stream",
     "text": [
      "    category scientific_name common_names conservation_status  \\\n",
      "748     Bird   Columba livia    Rock Dove      Not Endangered   \n",
      "749     Bird   Columba livia    Rock Dove      Not Endangered   \n",
      "750     Bird   Columba livia    Rock Dove      Not Endangered   \n",
      "751     Bird   Columba livia    Rock Dove      Not Endangered   \n",
      "752     Bird   Columba livia    Rock Dove      Not Endangered   \n",
      "753     Bird   Columba livia    Rock Dove      Not Endangered   \n",
      "754     Bird   Columba livia    Rock Dove      Not Endangered   \n",
      "755     Bird   Columba livia    Rock Dove      Not Endangered   \n",
      "756     Bird   Columba livia    Rock Dove      Not Endangered   \n",
      "757     Bird   Columba livia    Rock Dove      Not Endangered   \n",
      "758     Bird   Columba livia    Rock Dove      Not Endangered   \n",
      "759     Bird   Columba livia    Rock Dove      Not Endangered   \n",
      "\n",
      "                               park_name  observations      protected  \n",
      "748                  Bryce National Park           135  Not Protected  \n",
      "749            Yellowstone National Park           251  Not Protected  \n",
      "750               Yosemite National Park           142  Not Protected  \n",
      "751                  Bryce National Park            96  Not Protected  \n",
      "752                  Bryce National Park           108  Not Protected  \n",
      "753               Yosemite National Park           144  Not Protected  \n",
      "754            Yellowstone National Park           232  Not Protected  \n",
      "755            Yellowstone National Park           239  Not Protected  \n",
      "756  Great Smoky Mountains National Park            44  Not Protected  \n",
      "757  Great Smoky Mountains National Park            34  Not Protected  \n",
      "758  Great Smoky Mountains National Park            91  Not Protected  \n",
      "759               Yosemite National Park           137  Not Protected  \n"
     ]
    }
   ],
   "source": [
    "print(merged_df[merged_df.scientific_name == 'Columba livia'])"
   ]
  },
  {
   "cell_type": "markdown",
   "metadata": {},
   "source": [
    "While there are 12 rows with the same scientific names, each has a different number of observations.  From the .value_counts() function we can see that all of the counts are multiples of 4.  Given that there are 4 different parks, it is likely that the the sets of 4 represent different years our instances when each of the 4 parks were measured.  As such,  duplicates do not seem to be an issue here, our merged data appears to be clean, and we can move on the our analysis."
   ]
  },
  {
   "cell_type": "markdown",
   "metadata": {},
   "source": [
    "## Analysis"
   ]
  },
  {
   "cell_type": "markdown",
   "metadata": {},
   "source": [
    "Now that our data is clean, we can analyze it to address the questions that we raised back in our scope. \n",
    "<br>\n",
    "<br>\n",
    "Thes are: \n",
    "<br>\n",
    "- What is the distribution of conservation status for animals?\n",
    "<br>\n",
    "- Are certain types of species more likely to be endangered?\n",
    "<br>\n",
    "- Are the differences between species and their conservation status significant?\n",
    "<br>\n",
    "- Which species were spotted the most at each park?"
   ]
  },
  {
   "cell_type": "markdown",
   "metadata": {},
   "source": [
    "### Distribution of Conservation Status For Animals?"
   ]
  },
  {
   "cell_type": "markdown",
   "metadata": {},
   "source": [
    "To answer the first question we can simply use .value_counts to find the proportion that each conservations status represents in the data set.  "
   ]
  },
  {
   "cell_type": "code",
   "execution_count": 356,
   "metadata": {},
   "outputs": [
    {
     "name": "stdout",
     "output_type": "stream",
     "text": [
      "Not Endangered        0.967033\n",
      "Species of Concern    0.027644\n",
      "Endangered            0.002919\n",
      "Threatened            0.001889\n",
      "In Recovery           0.000515\n",
      "Name: conservation_status, dtype: float64\n"
     ]
    }
   ],
   "source": [
    "status_prop = merged_df.conservation_status.value_counts(normalize=True)\n",
    "print(status_prop)"
   ]
  },
  {
   "cell_type": "markdown",
   "metadata": {},
   "source": [
    "The figure above shows the proportion of conservations status for all animals.  While this shows us that the vast majority of observations were of 'Not Endangered' animals, it doesnt tell us much else.  We should find the distribution of conservations status for animals based on their category.  This could give us more insight."
   ]
  },
  {
   "cell_type": "code",
   "execution_count": 353,
   "metadata": {},
   "outputs": [
    {
     "data": {
      "text/html": [
       "<div>\n",
       "<style scoped>\n",
       "    .dataframe tbody tr th:only-of-type {\n",
       "        vertical-align: middle;\n",
       "    }\n",
       "\n",
       "    .dataframe tbody tr th {\n",
       "        vertical-align: top;\n",
       "    }\n",
       "\n",
       "    .dataframe thead th {\n",
       "        text-align: right;\n",
       "    }\n",
       "</style>\n",
       "<table border=\"1\" class=\"dataframe\">\n",
       "  <thead>\n",
       "    <tr style=\"text-align: right;\">\n",
       "      <th>conservation_status</th>\n",
       "      <th>Not Endangered</th>\n",
       "      <th>Species of Concern</th>\n",
       "      <th>In Recovery</th>\n",
       "      <th>Threatened</th>\n",
       "      <th>Endangered</th>\n",
       "    </tr>\n",
       "    <tr>\n",
       "      <th>category</th>\n",
       "      <th></th>\n",
       "      <th></th>\n",
       "      <th></th>\n",
       "      <th></th>\n",
       "      <th></th>\n",
       "    </tr>\n",
       "  </thead>\n",
       "  <tbody>\n",
       "    <tr>\n",
       "      <th>Amphibian</th>\n",
       "      <td>0.912500</td>\n",
       "      <td>0.050000</td>\n",
       "      <td>NaN</td>\n",
       "      <td>0.025000</td>\n",
       "      <td>0.012500</td>\n",
       "    </tr>\n",
       "    <tr>\n",
       "      <th>Bird</th>\n",
       "      <td>0.848369</td>\n",
       "      <td>0.138196</td>\n",
       "      <td>0.005758</td>\n",
       "      <td>NaN</td>\n",
       "      <td>0.007678</td>\n",
       "    </tr>\n",
       "    <tr>\n",
       "      <th>Fish</th>\n",
       "      <td>0.905512</td>\n",
       "      <td>0.031496</td>\n",
       "      <td>NaN</td>\n",
       "      <td>0.039370</td>\n",
       "      <td>0.023622</td>\n",
       "    </tr>\n",
       "    <tr>\n",
       "      <th>Mammal</th>\n",
       "      <td>0.822430</td>\n",
       "      <td>0.130841</td>\n",
       "      <td>NaN</td>\n",
       "      <td>0.009346</td>\n",
       "      <td>0.037383</td>\n",
       "    </tr>\n",
       "    <tr>\n",
       "      <th>Nonvascular Plant</th>\n",
       "      <td>0.984985</td>\n",
       "      <td>0.015015</td>\n",
       "      <td>NaN</td>\n",
       "      <td>NaN</td>\n",
       "      <td>NaN</td>\n",
       "    </tr>\n",
       "    <tr>\n",
       "      <th>Reptile</th>\n",
       "      <td>0.936709</td>\n",
       "      <td>0.063291</td>\n",
       "      <td>NaN</td>\n",
       "      <td>NaN</td>\n",
       "      <td>NaN</td>\n",
       "    </tr>\n",
       "    <tr>\n",
       "      <th>Vascular Plant</th>\n",
       "      <td>0.989709</td>\n",
       "      <td>0.009620</td>\n",
       "      <td>NaN</td>\n",
       "      <td>0.000447</td>\n",
       "      <td>0.000224</td>\n",
       "    </tr>\n",
       "  </tbody>\n",
       "</table>\n",
       "</div>"
      ],
      "text/plain": [
       "conservation_status  Not Endangered  Species of Concern  In Recovery  \\\n",
       "category                                                               \n",
       "Amphibian                  0.912500            0.050000          NaN   \n",
       "Bird                       0.848369            0.138196     0.005758   \n",
       "Fish                       0.905512            0.031496          NaN   \n",
       "Mammal                     0.822430            0.130841          NaN   \n",
       "Nonvascular Plant          0.984985            0.015015          NaN   \n",
       "Reptile                    0.936709            0.063291          NaN   \n",
       "Vascular Plant             0.989709            0.009620          NaN   \n",
       "\n",
       "conservation_status  Threatened  Endangered  \n",
       "category                                     \n",
       "Amphibian              0.025000    0.012500  \n",
       "Bird                        NaN    0.007678  \n",
       "Fish                   0.039370    0.023622  \n",
       "Mammal                 0.009346    0.037383  \n",
       "Nonvascular Plant           NaN         NaN  \n",
       "Reptile                     NaN         NaN  \n",
       "Vascular Plant         0.000447    0.000224  "
      ]
     },
     "execution_count": 353,
     "metadata": {},
     "output_type": "execute_result"
    }
   ],
   "source": [
    "merged_df['protected'] = merged_df.conservation_status.apply\\\n",
    "(lambda x: 'Protected' if x != 'Not Endangered' else 'Not Protected')\n",
    "merged_df.groupby('category').conservation_status.value_counts(normalize=True).unstack()"
   ]
  },
  {
   "cell_type": "markdown",
   "metadata": {},
   "source": [
    "The table above gives us some interesting insights about the dataset.  First, mammals have the highest proportion of endangered species.  This could be for a variety of reasons but my intuition tells me that this is likely because mammals and fish are the most are the most hunted categories and fish reproduce more.  So it makes sense that mammals are first and fish are second.  Interestingly, birds are the only category that have a group \"in recovery\".  I'm not sure why this could be however.  Plants from both categories have the highest proportion of \"Not Endangered\" species.  This also makes sense as plants easily reproduce and have less predators.  \n"
   ]
  }
 ],
 "metadata": {
  "kernelspec": {
   "display_name": "Python 3",
   "language": "python",
   "name": "python3"
  },
  "language_info": {
   "codemirror_mode": {
    "name": "ipython",
    "version": 3
   },
   "file_extension": ".py",
   "mimetype": "text/x-python",
   "name": "python",
   "nbconvert_exporter": "python",
   "pygments_lexer": "ipython3",
   "version": "3.8.8"
  }
 },
 "nbformat": 4,
 "nbformat_minor": 4
}
